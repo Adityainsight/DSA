{
  "nbformat": 4,
  "nbformat_minor": 0,
  "metadata": {
    "colab": {
      "provenance": [],
      "authorship_tag": "ABX9TyM7Ce5qHmW416M2JSP5vU9z",
      "include_colab_link": true
    },
    "kernelspec": {
      "name": "python3",
      "display_name": "Python 3"
    },
    "language_info": {
      "name": "python"
    }
  },
  "cells": [
    {
      "cell_type": "markdown",
      "metadata": {
        "id": "view-in-github",
        "colab_type": "text"
      },
      "source": [
        "<a href=\"https://colab.research.google.com/github/Adityainsight/DSA/blob/main/DSA.ipynb\" target=\"_parent\"><img src=\"https://colab.research.google.com/assets/colab-badge.svg\" alt=\"Open In Colab\"/></a>"
      ]
    },
    {
      "cell_type": "code",
      "source": [
        "class Solution:\n",
        "    def sumOfDigits(self, n):\n",
        "        return sum(int(digits) for digits in str(n))\n"
      ],
      "metadata": {
        "id": "AryWBInNX-y_"
      },
      "execution_count": null,
      "outputs": []
    },
    {
      "cell_type": "code",
      "source": [
        "#User function Template for python3\n",
        "\n",
        "class Solution:\n",
        "    def printTillN(self, N):\n",
        "        for i in range(1,N+1):\n",
        "            print(i)\n"
      ],
      "metadata": {
        "id": "9lc4U5oDaavJ"
      },
      "execution_count": null,
      "outputs": []
    },
    {
      "cell_type": "code",
      "source": [
        "#prameterised way\n",
        "def sumtilln(i,sum):\n",
        "    if i==0:\n",
        "        return sum\n",
        "    else:\n",
        "        return sumtilln(i-1,sum+i)\n"
      ],
      "metadata": {
        "id": "JQXKcJn9aas6",
        "colab": {
          "base_uri": "https://localhost:8080/"
        },
        "outputId": "ab509684-2113-43eb-f426-b8d56dc1d991"
      },
      "execution_count": null,
      "outputs": [
        {
          "output_type": "execute_result",
          "data": {
            "text/plain": [
              "0"
            ]
          },
          "metadata": {},
          "execution_count": 8
        }
      ]
    },
    {
      "cell_type": "code",
      "source": [
        "#functional way\n",
        "def sumtilln(n):\n",
        "    if n == 0:\n",
        "      return 0\n",
        "    return n + sumtilln(n-1)\n",
        "print(sumtilln(6))"
      ],
      "metadata": {
        "id": "KW9yXbHdaaqM",
        "colab": {
          "base_uri": "https://localhost:8080/"
        },
        "outputId": "d65e2460-8ce6-4444-e1b8-09c99b25ff01"
      },
      "execution_count": null,
      "outputs": [
        {
          "output_type": "stream",
          "name": "stdout",
          "text": [
            "21\n"
          ]
        }
      ]
    },
    {
      "cell_type": "code",
      "source": [
        "#Functional Way\n",
        "def factorial(n):\n",
        "  if n == 1:\n",
        "    return 1\n",
        "  return n * factorial(n-1)\n",
        "print(factorial(6))"
      ],
      "metadata": {
        "id": "dvp1699yaan1",
        "colab": {
          "base_uri": "https://localhost:8080/"
        },
        "outputId": "54181a51-f5f8-41f1-f2df-dade24028be0"
      },
      "execution_count": null,
      "outputs": [
        {
          "output_type": "stream",
          "name": "stdout",
          "text": [
            "720\n"
          ]
        }
      ]
    },
    {
      "cell_type": "code",
      "source": [
        "def factorial(i, n):\n",
        "    if n == 0:\n",
        "        return i\n",
        "    return factorial(i * n, n - 1)\n",
        "\n",
        "print(factorial(1, 7))  # Output: 5040\n"
      ],
      "metadata": {
        "id": "enqjMepPaalE",
        "colab": {
          "base_uri": "https://localhost:8080/"
        },
        "outputId": "8dd4b6b9-e069-4309-f764-5e02395e9641"
      },
      "execution_count": null,
      "outputs": [
        {
          "output_type": "stream",
          "name": "stdout",
          "text": [
            "5040\n"
          ]
        }
      ]
    },
    {
      "cell_type": "code",
      "source": [
        "def swaparray(a, l, r):\n",
        "  if l >= r:\n",
        "    return a\n",
        "  a[l], a[r] = a[r], a[l]\n",
        "  return swaparray(a, l + 1, r - 1)\n",
        "\n",
        "# Call the function with the array and boundaries\n",
        "arr = [3, 5, 2, 4, 2, 4]\n",
        "print(swaparray(arr, 0, len(arr) - 1))\n"
      ],
      "metadata": {
        "id": "eSnsx2Pnaaii",
        "colab": {
          "base_uri": "https://localhost:8080/"
        },
        "outputId": "e3bc07a5-0b78-4964-a41c-5fd2d0145834"
      },
      "execution_count": null,
      "outputs": [
        {
          "output_type": "stream",
          "name": "stdout",
          "text": [
            "[4, 2, 4, 2, 5, 3]\n"
          ]
        }
      ]
    },
    {
      "cell_type": "code",
      "source": [
        "def sumoffirstn(N):\n",
        "  total = 0\n",
        "  for i in range(1,N+1):\n",
        "    total = i+total\n",
        "  return total\n",
        "sumoffirstn(6)"
      ],
      "metadata": {
        "id": "iFQebJT2aafu",
        "colab": {
          "base_uri": "https://localhost:8080/"
        },
        "outputId": "d3b34c09-05a7-450c-8951-dcfb32d8db46"
      },
      "execution_count": null,
      "outputs": [
        {
          "output_type": "execute_result",
          "data": {
            "text/plain": [
              "21"
            ]
          },
          "metadata": {},
          "execution_count": 2
        }
      ]
    },
    {
      "cell_type": "code",
      "source": [
        "def reverse_recursive(arr, left, right):\n",
        "    if left >= right:\n",
        "        return\n",
        "    arr[left], arr[right] = arr[right], arr[left]\n",
        "    reverse_recursive(arr, left + 1, right - 1)\n",
        "\n",
        "def reverse():\n",
        "    arr = [1, 2, 3, 4, 5, 6, 7]\n",
        "    reverse_recursive(arr, 0, len(arr) - 1)\n",
        "    return arr\n",
        "\n",
        "print(reverse())"
      ],
      "metadata": {
        "id": "g83R3i5YaadJ",
        "colab": {
          "base_uri": "https://localhost:8080/"
        },
        "outputId": "4016ed2c-b306-4765-947d-3159e3564d62"
      },
      "execution_count": null,
      "outputs": [
        {
          "output_type": "stream",
          "name": "stdout",
          "text": [
            "[7, 6, 5, 4, 3, 2, 1]\n"
          ]
        }
      ]
    },
    {
      "cell_type": "code",
      "source": [
        "def is_palindrome(string1, left, right):\n",
        "    if left >= right:\n",
        "        return True\n",
        "    if string1[left] != string1[right]:\n",
        "        return False\n",
        "    return is_palindrome(string1, left + 1, right - 1)\n",
        "\n",
        "string1 = \"racecar\"\n",
        "print(is_palindrome(string1, 0, len(string1) - 1))\n"
      ],
      "metadata": {
        "id": "H-yF3M2uaaar",
        "colab": {
          "base_uri": "https://localhost:8080/"
        },
        "outputId": "5804468b-ac7d-438f-fea5-e2a3d99aadd9"
      },
      "execution_count": null,
      "outputs": [
        {
          "output_type": "stream",
          "name": "stdout",
          "text": [
            "True\n"
          ]
        }
      ]
    },
    {
      "cell_type": "code",
      "source": [
        "def fibonacci_recursive(n):\n",
        "    \"\"\"\n",
        "    Calculates the nth Fibonacci number using recursion.\n",
        "    \"\"\"\n",
        "    if n <= 1:\n",
        "        return n\n",
        "    else:\n",
        "        return fibonacci_recursive(n - 1) + fibonacci_recursive(n - 2)\n",
        "fibonacci_recursive(8)"
      ],
      "metadata": {
        "id": "oyEhypL6aaX2",
        "colab": {
          "base_uri": "https://localhost:8080/"
        },
        "outputId": "2032e3b3-f27f-482e-b46e-85cd6eb9af8d"
      },
      "execution_count": null,
      "outputs": [
        {
          "output_type": "execute_result",
          "data": {
            "text/plain": [
              "21"
            ]
          },
          "metadata": {},
          "execution_count": 13
        }
      ]
    },
    {
      "cell_type": "code",
      "source": [],
      "metadata": {
        "id": "sXVPiw08aaQ9"
      },
      "execution_count": null,
      "outputs": []
    }
  ]
}