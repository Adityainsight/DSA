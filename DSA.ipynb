{
  "nbformat": 4,
  "nbformat_minor": 0,
  "metadata": {
    "colab": {
      "provenance": [],
      "authorship_tag": "ABX9TyM2n2iVA9o5kInNQMcitC/V",
      "include_colab_link": true
    },
    "kernelspec": {
      "name": "python3",
      "display_name": "Python 3"
    },
    "language_info": {
      "name": "python"
    }
  },
  "cells": [
    {
      "cell_type": "markdown",
      "metadata": {
        "id": "view-in-github",
        "colab_type": "text"
      },
      "source": [
        "<a href=\"https://colab.research.google.com/github/Adityainsight/DSA/blob/main/DSA.ipynb\" target=\"_parent\"><img src=\"https://colab.research.google.com/assets/colab-badge.svg\" alt=\"Open In Colab\"/></a>"
      ]
    },
    {
      "cell_type": "code",
      "source": [
        "class Solution:\n",
        "    def sumOfDigits(self, n):\n",
        "        return sum(int(digits) for digits in str(n))\n"
      ],
      "metadata": {
        "id": "AryWBInNX-y_"
      },
      "execution_count": null,
      "outputs": []
    },
    {
      "cell_type": "code",
      "source": [
        "#User function Template for python3\n",
        "\n",
        "class Solution:\n",
        "    def printTillN(self, N):\n",
        "        for i in range(1,N+1):\n",
        "            print(i)\n",
        ""
      ],
      "metadata": {
        "id": "9lc4U5oDaavJ"
      },
      "execution_count": 9,
      "outputs": []
    },
    {
      "cell_type": "code",
      "source": [
        "#prameterised way\n",
        "def sumtilln(i,sum):\n",
        "    if i==0:\n",
        "        return sum\n",
        "    else:\n",
        "        return sumtilln(i-1,sum+i)\n"
      ],
      "metadata": {
        "id": "JQXKcJn9aas6",
        "colab": {
          "base_uri": "https://localhost:8080/"
        },
        "outputId": "ab509684-2113-43eb-f426-b8d56dc1d991"
      },
      "execution_count": 8,
      "outputs": [
        {
          "output_type": "execute_result",
          "data": {
            "text/plain": [
              "0"
            ]
          },
          "metadata": {},
          "execution_count": 8
        }
      ]
    },
    {
      "cell_type": "code",
      "source": [
        "#functional way\n",
        "def sumtilln(n):\n",
        "    if n == 0:\n",
        "      return 0\n",
        "    return n + sumtilln(n-1)\n",
        "print(sumtilln(6))"
      ],
      "metadata": {
        "id": "KW9yXbHdaaqM",
        "colab": {
          "base_uri": "https://localhost:8080/"
        },
        "outputId": "d65e2460-8ce6-4444-e1b8-09c99b25ff01"
      },
      "execution_count": 11,
      "outputs": [
        {
          "output_type": "stream",
          "name": "stdout",
          "text": [
            "21\n"
          ]
        }
      ]
    },
    {
      "cell_type": "code",
      "source": [
        "#Functional Way\n",
        "def factorial(n):\n",
        "  if n == 1:\n",
        "    return 1\n",
        "  return n * factorial(n-1)\n",
        "print(factorial(6))"
      ],
      "metadata": {
        "id": "dvp1699yaan1",
        "colab": {
          "base_uri": "https://localhost:8080/"
        },
        "outputId": "54181a51-f5f8-41f1-f2df-dade24028be0"
      },
      "execution_count": 12,
      "outputs": [
        {
          "output_type": "stream",
          "name": "stdout",
          "text": [
            "720\n"
          ]
        }
      ]
    },
    {
      "cell_type": "code",
      "source": [
        "def factorial(i, n):\n",
        "    if n == 0:\n",
        "        return i\n",
        "    return factorial(i * n, n - 1)\n",
        "\n",
        "print(factorial(1, 7))  # Output: 5040\n",
        ""
      ],
      "metadata": {
        "id": "enqjMepPaalE",
        "colab": {
          "base_uri": "https://localhost:8080/"
        },
        "outputId": "8dd4b6b9-e069-4309-f764-5e02395e9641"
      },
      "execution_count": 15,
      "outputs": [
        {
          "output_type": "stream",
          "name": "stdout",
          "text": [
            "5040\n"
          ]
        }
      ]
    },
    {
      "cell_type": "code",
      "source": [],
      "metadata": {
        "id": "eSnsx2Pnaaii"
      },
      "execution_count": null,
      "outputs": []
    },
    {
      "cell_type": "code",
      "source": [],
      "metadata": {
        "id": "iFQebJT2aafu"
      },
      "execution_count": null,
      "outputs": []
    },
    {
      "cell_type": "code",
      "source": [],
      "metadata": {
        "id": "g83R3i5YaadJ"
      },
      "execution_count": null,
      "outputs": []
    },
    {
      "cell_type": "code",
      "source": [],
      "metadata": {
        "id": "H-yF3M2uaaar"
      },
      "execution_count": null,
      "outputs": []
    },
    {
      "cell_type": "code",
      "source": [],
      "metadata": {
        "id": "oyEhypL6aaX2"
      },
      "execution_count": null,
      "outputs": []
    },
    {
      "cell_type": "code",
      "source": [],
      "metadata": {
        "id": "sXVPiw08aaQ9"
      },
      "execution_count": null,
      "outputs": []
    }
  ]
}